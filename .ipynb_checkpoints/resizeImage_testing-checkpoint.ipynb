{
 "cells": [
  {
   "cell_type": "code",
   "execution_count": 10,
   "metadata": {},
   "outputs": [],
   "source": [
    "import PIL\n",
    "import numpy as np\n",
    "import os\n",
    "import glob"
   ]
  },
  {
   "cell_type": "code",
   "execution_count": 11,
   "metadata": {},
   "outputs": [
    {
     "name": "stdout",
     "output_type": "stream",
     "text": [
      "(1063, 964)\n"
     ]
    }
   ],
   "source": [
    "# Load testing image\n",
    "img = Image.open(\"practiceImages/movieTest001.png\")\n",
    "print(img.size)\n",
    "# img.show()\n",
    "orig_W, orig_H = img.size"
   ]
  },
  {
   "cell_type": "code",
   "execution_count": 12,
   "metadata": {},
   "outputs": [
    {
     "name": "stdout",
     "output_type": "stream",
     "text": [
      "(720, 653)\n"
     ]
    }
   ],
   "source": [
    "# Resize the image\n",
    "origRatio = orig_H / orig_W\n",
    "new_W = 720\n",
    "new_H = int(np.round(720 * origRatio))\n",
    "newImg = img.resize((new_W, new_H))\n",
    "print(newImg.size)\n",
    "# newImg.show()"
   ]
  },
  {
   "cell_type": "code",
   "execution_count": 28,
   "metadata": {},
   "outputs": [
    {
     "name": "stdout",
     "output_type": "stream",
     "text": [
      "['practiceImages/movieTest001.png', 'practiceImages/movieTest002.png', 'practiceImages/movieTest003.png', 'practiceImages/movieTest004.png', 'practiceImages/movieTest005.png', 'practiceImages/movieTest006.png', 'practiceImages/movieTest007.png', 'practiceImages/movieTest008.png']\n"
     ]
    }
   ],
   "source": [
    "# Loop over all images in folder and make GIF\n",
    "frames = []\n",
    "allImgs = sorted(glob.glob(\"practiceImages/*.png\"))\n",
    "print(allImgs)"
   ]
  },
  {
   "cell_type": "code",
   "execution_count": 32,
   "metadata": {},
   "outputs": [
    {
     "name": "stdout",
     "output_type": "stream",
     "text": [
      "Adding file: practiceImages/movieTest001.png\n",
      "Adding file: practiceImages/movieTest002.png\n",
      "Adding file: practiceImages/movieTest003.png\n",
      "Adding file: practiceImages/movieTest004.png\n",
      "Adding file: practiceImages/movieTest005.png\n",
      "Adding file: practiceImages/movieTest006.png\n",
      "Adding file: practiceImages/movieTest007.png\n",
      "Adding file: practiceImages/movieTest008.png\n"
     ]
    }
   ],
   "source": [
    "# allImgs = os.listdir(\"practiceImages/*.png\")\n",
    "for i in allImgs:\n",
    "    print('Adding file: {}'.format(i))\n",
    "    tmpImg = Image.open(i)\n",
    "    tmpImg_resize = tmpImg.resize((new_W, new_H))\n",
    "    frames.append(tmpImg_resize)\n",
    "    \n",
    "frames[0].save('practiceGIFs/testing_PIL_GIF.gif',\n",
    "              save_all=True, append_images=frames[1:],\n",
    "              optimize=False, duration=500, loop=0)"
   ]
  }
 ],
 "metadata": {
  "kernelspec": {
   "display_name": "Python 3",
   "language": "python",
   "name": "python3"
  },
  "language_info": {
   "codemirror_mode": {
    "name": "ipython",
    "version": 3
   },
   "file_extension": ".py",
   "mimetype": "text/x-python",
   "name": "python",
   "nbconvert_exporter": "python",
   "pygments_lexer": "ipython3",
   "version": "3.6.9"
  }
 },
 "nbformat": 4,
 "nbformat_minor": 4
}
