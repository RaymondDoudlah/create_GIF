{
 "cells": [
  {
   "cell_type": "code",
   "execution_count": 1,
   "metadata": {},
   "outputs": [],
   "source": [
    "import imageio\n",
    "import glob\n",
    "from PIL import Image\n",
    "import numpy as np"
   ]
  },
  {
   "cell_type": "code",
   "execution_count": 4,
   "metadata": {},
   "outputs": [
    {
     "name": "stdout",
     "output_type": "stream",
     "text": [
      "(1063, 964)\n"
     ]
    }
   ],
   "source": [
    "# Load testing image\n",
    "img = Image.open(\"practiceImages/movieTest001.png\")\n",
    "print(img.size)\n",
    "img.show()\n",
    "orig_W, orig_H = img.size"
   ]
  },
  {
   "cell_type": "code",
   "execution_count": 3,
   "metadata": {},
   "outputs": [
    {
     "name": "stdout",
     "output_type": "stream",
     "text": [
      "(720, 653)\n"
     ]
    }
   ],
   "source": [
    "# Resize the image\n",
    "origRatio = orig_H / orig_W\n",
    "new_W = 720\n",
    "new_H = int(np.round(720 * origRatio))\n",
    "newImg = img.resize((new_W, new_H))\n",
    "print(newImg.size)\n",
    "newImg.show()"
   ]
  }
 ],
 "metadata": {
  "kernelspec": {
   "display_name": "Python 3",
   "language": "python",
   "name": "python3"
  },
  "language_info": {
   "codemirror_mode": {
    "name": "ipython",
    "version": 3
   },
   "file_extension": ".py",
   "mimetype": "text/x-python",
   "name": "python",
   "nbconvert_exporter": "python",
   "pygments_lexer": "ipython3",
   "version": "3.6.9"
  }
 },
 "nbformat": 4,
 "nbformat_minor": 4
}
